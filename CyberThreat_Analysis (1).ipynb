{
 "cells": [
  {
   "cell_type": "code",
   "execution_count": 0,
   "metadata": {
    "application/vnd.databricks.v1+cell": {
     "cellMetadata": {
      "byteLimit": 2048000,
      "rowLimit": 10000
     },
     "inputWidgets": {},
     "nuid": "3cc74c0c-c423-4eb5-87cd-e10c9bbde5ce",
     "showTitle": false,
     "tableResultSettingsMap": {},
     "title": ""
    }
   },
   "outputs": [
    {
     "output_type": "stream",
     "name": "stdout",
     "output_type": "stream",
     "text": [
      "+-------+----+-----------------+------------------+-----------------------------+------------------------+-------------+---------------------------+----------------------+-----------------------------------+\n|Country|Year|      Attack Type|   Target Industry|Financial Loss (in Million $)|Number of Affected Users|Attack Source|Security Vulnerability Type|Defense Mechanism Used|Incident Resolution Time (in Hours)|\n+-------+----+-----------------+------------------+-----------------------------+------------------------+-------------+---------------------------+----------------------+-----------------------------------+\n|  China|2019|         Phishing|         Education|                        80.53|                  773169| Hacker Group|         Unpatched Software|                   VPN|                                 63|\n|  China|2019|       Ransomware|            Retail|                        62.19|                  295961| Hacker Group|         Unpatched Software|              Firewall|                                 71|\n|  India|2017|Man-in-the-Middle|                IT|                        38.65|                  605895| Hacker Group|             Weak Passwords|                   VPN|                                 20|\n|     UK|2024|       Ransomware|Telecommunications|                        41.44|                  659320| Nation-state|         Social Engineering|    AI-based Detection|                                  7|\n|Germany|2018|Man-in-the-Middle|                IT|                        74.41|                  810682|      Insider|         Social Engineering|                   VPN|                                 68|\n+-------+----+-----------------+------------------+-----------------------------+------------------------+-------------+---------------------------+----------------------+-----------------------------------+\nonly showing top 5 rows\n\nroot\n |-- Country: string (nullable = true)\n |-- Year: integer (nullable = true)\n |-- Attack Type: string (nullable = true)\n |-- Target Industry: string (nullable = true)\n |-- Financial Loss (in Million $): double (nullable = true)\n |-- Number of Affected Users: integer (nullable = true)\n |-- Attack Source: string (nullable = true)\n |-- Security Vulnerability Type: string (nullable = true)\n |-- Defense Mechanism Used: string (nullable = true)\n |-- Incident Resolution Time (in Hours): integer (nullable = true)\n\nrow count: 3000\n"
     ]
    }
   ],
   "source": [
    "#Load and data ingestion\n",
    "cyber_data = spark.read.option(\"header\", True).option(\"inferSchema\", True).csv(\"/FileStore/tables/Global_Cybersecurity_Threats_2015_2024.csv\")\n",
    "cyber_data.show(5)\n",
    "cyber_data.printSchema()\n",
    "cyber_data.count()\n",
    "\n",
    "print(\"row count:\", cyber_data.count())\n"
   ]
  },
  {
   "cell_type": "code",
   "execution_count": 0,
   "metadata": {
    "application/vnd.databricks.v1+cell": {
     "cellMetadata": {
      "byteLimit": 2048000,
      "rowLimit": 10000
     },
     "inputWidgets": {},
     "nuid": "7ae0bb87-0689-440b-8604-d32d81e3139e",
     "showTitle": false,
     "tableResultSettingsMap": {},
     "title": ""
    }
   },
   "outputs": [],
   "source": [
    "#SQL Data Exploration\n",
    "\n",
    "cyber_data.createOrReplaceTempView(\"cyber_threats\")"
   ]
  },
  {
   "cell_type": "code",
   "execution_count": 0,
   "metadata": {
    "application/vnd.databricks.v1+cell": {
     "cellMetadata": {
      "byteLimit": 2048000,
      "implicitDf": true,
      "rowLimit": 10000
     },
     "inputWidgets": {},
     "nuid": "469a58de-83f8-4b49-8566-7d3b6b62a1eb",
     "showTitle": false,
     "tableResultSettingsMap": {},
     "title": ""
    }
   },
   "outputs": [
    {
     "output_type": "display_data",
     "data": {
      "text/html": [
       "<style scoped>\n",
       "  .table-result-container {\n",
       "    max-height: 300px;\n",
       "    overflow: auto;\n",
       "  }\n",
       "  table, th, td {\n",
       "    border: 1px solid black;\n",
       "    border-collapse: collapse;\n",
       "  }\n",
       "  th, td {\n",
       "    padding: 5px;\n",
       "  }\n",
       "  th {\n",
       "    text-align: left;\n",
       "  }\n",
       "</style><div class='table-result-container'><table class='table-result'><thead style='background-color: white'><tr><th>Attack Type</th><th>total</th></tr></thead><tbody><tr><td>DDoS</td><td>531</td></tr><tr><td>Phishing</td><td>529</td></tr><tr><td>SQL Injection</td><td>503</td></tr><tr><td>Ransomware</td><td>493</td></tr><tr><td>Malware</td><td>485</td></tr></tbody></table></div>"
      ]
     },
     "metadata": {
      "application/vnd.databricks.v1+output": {
       "addedWidgets": {},
       "aggData": [],
       "aggError": "",
       "aggOverflow": false,
       "aggSchema": [],
       "aggSeriesLimitReached": false,
       "aggType": "",
       "arguments": {},
       "columnCustomDisplayInfos": {},
       "data": [
        [
         "DDoS",
         531
        ],
        [
         "Phishing",
         529
        ],
        [
         "SQL Injection",
         503
        ],
        [
         "Ransomware",
         493
        ],
        [
         "Malware",
         485
        ]
       ],
       "datasetInfos": [],
       "dbfsResultPath": null,
       "isJsonSchema": true,
       "metadata": {},
       "overflow": false,
       "plotOptions": {
        "customPlotOptions": {},
        "displayType": "table",
        "pivotAggregation": null,
        "pivotColumns": null,
        "xColumns": null,
        "yColumns": null
       },
       "removedWidgets": [],
       "schema": [
        {
         "metadata": "{}",
         "name": "Attack Type",
         "type": "\"string\""
        },
        {
         "metadata": "{}",
         "name": "total",
         "type": "\"long\""
        }
       ],
       "type": "table"
      }
     },
     "output_type": "display_data"
    },
    {
     "output_type": "display_data",
     "data": {
      "text/plain": [
       "Databricks visualization. Run in Databricks to view."
      ]
     },
     "metadata": {
      "application/vnd.databricks.v1.subcommand+json": {
       "baseErrorDetails": null,
       "bindings": {},
       "collapsed": false,
       "command": "%sql WITH q AS (SELECT `Attack Type`, COUNT(*) AS total\nFROM cyber_threats\nGROUP BY `Attack Type`\nORDER BY total DESC\nLIMIT 5) SELECT `Attack Type`,SUM(`total`) `column_b001e026129` FROM q GROUP BY `Attack Type`",
       "commandTitle": "Visualization 1",
       "commandType": "auto",
       "commandVersion": 0,
       "commentThread": [],
       "commentsVisible": false,
       "contentSha256Hex": null,
       "customPlotOptions": {
        "redashChart": [
         {
          "key": "type",
          "value": "CHART"
         },
         {
          "key": "options",
          "value": {
           "alignYAxesAtZero": true,
           "coefficient": 1,
           "columnConfigurationMap": {
            "x": {
             "column": "Attack Type",
             "id": "column_b001e026128"
            },
            "y": [
             {
              "column": "total",
              "id": "column_b001e026129",
              "transform": "SUM"
             }
            ]
           },
           "dateTimeFormat": "DD/MM/YYYY HH:mm",
           "direction": {
            "type": "counterclockwise"
           },
           "error_y": {
            "type": "data",
            "visible": true
           },
           "globalSeriesType": "column",
           "legend": {
            "traceorder": "normal"
           },
           "missingValuesAsZero": true,
           "numberFormat": "0,0.[00000]",
           "percentFormat": "0[.]00%",
           "series": {
            "error_y": {
             "type": "data",
             "visible": true
            },
            "stacking": null
           },
           "seriesOptions": {
            "column_b001e026129": {
             "name": "total",
             "yAxis": 0
            }
           },
           "showDataLabels": false,
           "sizemode": "diameter",
           "sortX": true,
           "sortY": true,
           "swappedAxes": true,
           "textFormat": "",
           "useAggregationsUi": true,
           "valuesOptions": {},
           "version": 2,
           "xAxis": {
            "labels": {
             "enabled": true
            },
            "type": "-"
           },
           "yAxis": [
            {
             "type": "-"
            },
            {
             "opposite": true,
             "type": "-"
            }
           ]
          }
         }
        ]
       },
       "datasetPreviewNameToCmdIdMap": {},
       "diffDeletes": [],
       "diffInserts": [],
       "displayType": "redashChart",
       "error": null,
       "errorDetails": null,
       "errorSummary": null,
       "errorTraceType": null,
       "finishTime": 0,
       "globalVars": {},
       "guid": "",
       "height": "auto",
       "hideCommandCode": false,
       "hideCommandResult": false,
       "iPythonMetadata": null,
       "inputWidgets": {},
       "isLockedInExamMode": false,
       "latestUser": "a user",
       "latestUserId": null,
       "listResultMetadata": null,
       "metadata": {},
       "nuid": "2210b70b-5645-4bb5-ad4a-1c546dfc0808",
       "origId": 0,
       "parentHierarchy": [],
       "pivotAggregation": null,
       "pivotColumns": null,
       "position": 103.0,
       "resultDbfsErrorMessage": null,
       "resultDbfsStatus": "INLINED_IN_TREE",
       "results": null,
       "showCommandTitle": false,
       "startTime": 0,
       "state": "input",
       "streamStates": {},
       "subcommandOptions": {
        "queryPlan": {
         "groups": [
          {
           "column": "Attack Type",
           "type": "column"
          }
         ],
         "selects": [
          {
           "column": "Attack Type",
           "type": "column"
          },
          {
           "alias": "column_b001e026129",
           "args": [
            {
             "column": "total",
             "type": "column"
            }
           ],
           "function": "SUM",
           "type": "function"
          }
         ]
        }
       },
       "submitTime": 0,
       "subtype": "tableResultSubCmd.visualization",
       "tableResultIndex": 0,
       "tableResultSettingsMap": {},
       "useConsistentColors": false,
       "version": "CommandV1",
       "width": "auto",
       "workflows": [],
       "xColumns": null,
       "yColumns": null
      }
     },
     "output_type": "display_data"
    }
   ],
   "source": [
    "%sql\n",
    "SELECT `Attack Type`, COUNT(*) AS total\n",
    "FROM cyber_threats\n",
    "GROUP BY `Attack Type`\n",
    "ORDER BY total DESC\n",
    "LIMIT 5;"
   ]
  },
  {
   "cell_type": "code",
   "execution_count": 0,
   "metadata": {
    "application/vnd.databricks.v1+cell": {
     "cellMetadata": {
      "byteLimit": 2048000,
      "implicitDf": true,
      "rowLimit": 10000
     },
     "inputWidgets": {},
     "nuid": "79af16d4-9c7f-40b3-8e04-c361f4f41c4a",
     "showTitle": false,
     "tableResultSettingsMap": {},
     "title": ""
    }
   },
   "outputs": [
    {
     "output_type": "display_data",
     "data": {
      "text/html": [
       "<style scoped>\n",
       "  .table-result-container {\n",
       "    max-height: 300px;\n",
       "    overflow: auto;\n",
       "  }\n",
       "  table, th, td {\n",
       "    border: 1px solid black;\n",
       "    border-collapse: collapse;\n",
       "  }\n",
       "  th, td {\n",
       "    padding: 5px;\n",
       "  }\n",
       "  th {\n",
       "    text-align: left;\n",
       "  }\n",
       "</style><div class='table-result-container'><table class='table-result'><thead style='background-color: white'><tr><th>Year</th><th>Total_Loss</th></tr></thead><tbody><tr><td>2015</td><td>14510.21</td></tr><tr><td>2016</td><td>13947.26</td></tr><tr><td>2017</td><td>16261.68</td></tr><tr><td>2018</td><td>14720.48</td></tr><tr><td>2019</td><td>13134.69</td></tr><tr><td>2020</td><td>15767.95</td></tr><tr><td>2021</td><td>15873.41</td></tr><tr><td>2022</td><td>15870.86</td></tr><tr><td>2023</td><td>15958.08</td></tr><tr><td>2024</td><td>15434.29</td></tr></tbody></table></div>"
      ]
     },
     "metadata": {
      "application/vnd.databricks.v1+output": {
       "addedWidgets": {},
       "aggData": [],
       "aggError": "",
       "aggOverflow": false,
       "aggSchema": [],
       "aggSeriesLimitReached": false,
       "aggType": "",
       "arguments": {},
       "columnCustomDisplayInfos": {},
       "data": [
        [
         2015,
         14510.21
        ],
        [
         2016,
         13947.26
        ],
        [
         2017,
         16261.68
        ],
        [
         2018,
         14720.48
        ],
        [
         2019,
         13134.69
        ],
        [
         2020,
         15767.95
        ],
        [
         2021,
         15873.41
        ],
        [
         2022,
         15870.86
        ],
        [
         2023,
         15958.08
        ],
        [
         2024,
         15434.29
        ]
       ],
       "datasetInfos": [],
       "dbfsResultPath": null,
       "isJsonSchema": true,
       "metadata": {},
       "overflow": false,
       "plotOptions": {
        "customPlotOptions": {},
        "displayType": "table",
        "pivotAggregation": null,
        "pivotColumns": null,
        "xColumns": null,
        "yColumns": null
       },
       "removedWidgets": [],
       "schema": [
        {
         "metadata": "{}",
         "name": "Year",
         "type": "\"integer\""
        },
        {
         "metadata": "{}",
         "name": "Total_Loss",
         "type": "\"double\""
        }
       ],
       "type": "table"
      }
     },
     "output_type": "display_data"
    },
    {
     "output_type": "display_data",
     "data": {
      "text/plain": [
       "Databricks visualization. Run in Databricks to view."
      ]
     },
     "metadata": {
      "application/vnd.databricks.v1.subcommand+json": {
       "baseErrorDetails": null,
       "bindings": {},
       "collapsed": false,
       "command": "%sql WITH q AS (SELECT Year, ROUND(SUM(`Financial Loss (in Million $)`), 2) AS Total_Loss\nFROM cyber_threats\nGROUP BY Year\nORDER BY Year) SELECT `Year`,SUM(`Total_Loss`) `column_b001e026132` FROM q GROUP BY `Year`",
       "commandTitle": "Visualization 1",
       "commandType": "auto",
       "commandVersion": 0,
       "commentThread": [],
       "commentsVisible": false,
       "contentSha256Hex": null,
       "customPlotOptions": {
        "redashChart": [
         {
          "key": "type",
          "value": "CHART"
         },
         {
          "key": "options",
          "value": {
           "alignYAxesAtZero": true,
           "coefficient": 1,
           "columnConfigurationMap": {
            "x": {
             "column": "Year",
             "id": "column_b001e026131"
            },
            "y": [
             {
              "column": "Total_Loss",
              "id": "column_b001e026132",
              "transform": "SUM"
             }
            ]
           },
           "dateTimeFormat": "DD/MM/YYYY HH:mm",
           "direction": {
            "type": "counterclockwise"
           },
           "error_y": {
            "type": "data",
            "visible": true
           },
           "globalSeriesType": "column",
           "isAggregationOn": true,
           "legend": {
            "traceorder": "normal"
           },
           "missingValuesAsZero": true,
           "numberFormat": "0,0.[00000]",
           "percentFormat": "0[.]00%",
           "series": {
            "error_y": {
             "type": "data",
             "visible": true
            },
            "stacking": null
           },
           "seriesOptions": {
            "column_b001e026132": {
             "name": "Total_Loss",
             "type": "column",
             "yAxis": 0
            }
           },
           "showDataLabels": false,
           "sizemode": "diameter",
           "sortX": true,
           "sortY": true,
           "swappedAxes": false,
           "textFormat": "",
           "useAggregationsUi": true,
           "valuesOptions": {},
           "version": 2,
           "xAxis": {
            "labels": {
             "enabled": true
            },
            "type": "-"
           },
           "yAxis": [
            {
             "type": "-"
            },
            {
             "opposite": true,
             "type": "-"
            }
           ]
          }
         }
        ]
       },
       "datasetPreviewNameToCmdIdMap": {},
       "diffDeletes": [],
       "diffInserts": [],
       "displayType": "redashChart",
       "error": null,
       "errorDetails": null,
       "errorSummary": null,
       "errorTraceType": null,
       "finishTime": 0,
       "globalVars": {},
       "guid": "",
       "height": "auto",
       "hideCommandCode": false,
       "hideCommandResult": false,
       "iPythonMetadata": null,
       "inputWidgets": {},
       "isLockedInExamMode": false,
       "latestUser": "a user",
       "latestUserId": null,
       "listResultMetadata": null,
       "metadata": {},
       "nuid": "a397c1e3-cced-4f4e-9d62-1817e04d8af3",
       "origId": 0,
       "parentHierarchy": [],
       "pivotAggregation": null,
       "pivotColumns": null,
       "position": 104.0,
       "resultDbfsErrorMessage": null,
       "resultDbfsStatus": "INLINED_IN_TREE",
       "results": null,
       "showCommandTitle": false,
       "startTime": 0,
       "state": "input",
       "streamStates": {},
       "subcommandOptions": {
        "queryPlan": {
         "groups": [
          {
           "column": "Year",
           "type": "column"
          }
         ],
         "selects": [
          {
           "column": "Year",
           "type": "column"
          },
          {
           "alias": "column_b001e026132",
           "args": [
            {
             "column": "Total_Loss",
             "type": "column"
            }
           ],
           "function": "SUM",
           "type": "function"
          }
         ]
        }
       },
       "submitTime": 0,
       "subtype": "tableResultSubCmd.visualization",
       "tableResultIndex": 0,
       "tableResultSettingsMap": {},
       "useConsistentColors": false,
       "version": "CommandV1",
       "width": "auto",
       "workflows": [],
       "xColumns": null,
       "yColumns": null
      }
     },
     "output_type": "display_data"
    }
   ],
   "source": [
    "%sql\n",
    "SELECT Year, ROUND(SUM(`Financial Loss (in Million $)`), 2) AS Total_Loss\n",
    "FROM cyber_threats\n",
    "GROUP BY Year\n",
    "ORDER BY Year;\n"
   ]
  },
  {
   "cell_type": "code",
   "execution_count": 0,
   "metadata": {
    "application/vnd.databricks.v1+cell": {
     "cellMetadata": {
      "byteLimit": 2048000,
      "rowLimit": 10000
     },
     "inputWidgets": {},
     "nuid": "849b080f-6773-4f92-a904-03575206e72f",
     "showTitle": false,
     "tableResultSettingsMap": {},
     "title": ""
    }
   },
   "outputs": [
    {
     "output_type": "stream",
     "name": "stdout",
     "output_type": "stream",
     "text": [
      "Median Resolution Time: 36.0\n+---------------+-----+\n|Long_Resolution|count|\n+---------------+-----+\n|              1| 1501|\n|              0| 1499|\n+---------------+-----+\n\n"
     ]
    }
   ],
   "source": [
    "#Feature Engineering\n",
    "from pyspark.sql.functions import when, col\n",
    "median_time = cyber_data.approxQuantile(\"Incident Resolution Time (in Hours)\", [0.5], 0.01)[0]\n",
    "print(\"Median Resolution Time:\", median_time)\n",
    "cyber_data = cyber_data.withColumn(\"Long_Resolution\", when(col(\"Incident Resolution Time (in Hours)\") > median_time, 1).otherwise(0))\n",
    "cyber_data.groupBy(\"Long_Resolution\").count().show()\n",
    "\n",
    "cyber_data = cyber_data.withColumn(\"Users_Per_Year\", col(\"Number of Affected Users\") / (col(\"Year\") + 1))\n",
    "cyber_data = cyber_data.withColumn(\"User_Impact_Index\", col(\"Number of Affected Users\") / 100000)\n"
   ]
  },
  {
   "cell_type": "code",
   "execution_count": 0,
   "metadata": {
    "application/vnd.databricks.v1+cell": {
     "cellMetadata": {
      "byteLimit": 2048000,
      "rowLimit": 10000
     },
     "inputWidgets": {},
     "nuid": "633e3b9a-e19f-4332-9cd1-759e4791d95c",
     "showTitle": false,
     "tableResultSettingsMap": {},
     "title": ""
    }
   },
   "outputs": [],
   "source": [
    "#Index Categorical Features\n",
    "cat_cols = [\n",
    "    \"Country\", \n",
    "    \"Attack Type\", \n",
    "    \"Target Industry\", \n",
    "    \"Attack Source\", \n",
    "    \"Security Vulnerability Type\", \n",
    "    \"Defense Mechanism Used\"\n",
    "]\n",
    "\n",
    "from pyspark.ml.feature import StringIndexer\n",
    "indexers = [StringIndexer(inputCol=c, outputCol=c + \"_idx\", handleInvalid=\"keep\") for c in cat_cols]\n",
    "\n",
    "input_features = [\n",
    "    \"Year\", \n",
    "    \"Number of Affected Users\", \n",
    "    \"Users_Per_Year\", \n",
    "    \"User_Impact_Index\"\n",
    "] + [c + \"_idx\" for c in cat_cols]\n",
    "\n",
    "from pyspark.ml.feature import VectorAssembler\n",
    "assembler = VectorAssembler(inputCols=input_features, outputCol=\"features\")\n"
   ]
  },
  {
   "cell_type": "code",
   "execution_count": 0,
   "metadata": {
    "application/vnd.databricks.v1+cell": {
     "cellMetadata": {
      "byteLimit": 2048000,
      "rowLimit": 10000
     },
     "inputWidgets": {},
     "nuid": "d4531e7d-64f5-4fb9-b985-215aed8a2cd5",
     "showTitle": false,
     "tableResultSettingsMap": {},
     "title": ""
    }
   },
   "outputs": [],
   "source": [
    "#Model Training\n",
    "from pyspark.ml.classification import GBTClassifier\n",
    "from pyspark.ml import Pipeline\n",
    "\n",
    "gbt = GBTClassifier(labelCol=\"Long_Resolution\", featuresCol=\"features\", maxIter=50)\n",
    "\n",
    "pipeline = Pipeline(stages=indexers + [assembler, gbt])\n",
    "\n",
    "train, test = cyber_data.randomSplit([0.8, 0.2], seed=42)\n",
    "\n",
    "model = pipeline.fit(train)\n",
    "preds = model.transform(test)\n"
   ]
  },
  {
   "cell_type": "code",
   "execution_count": 0,
   "metadata": {
    "application/vnd.databricks.v1+cell": {
     "cellMetadata": {
      "byteLimit": 2048000,
      "rowLimit": 10000
     },
     "inputWidgets": {},
     "nuid": "7d949e7b-e10a-4f23-9d24-0be70e1b4263",
     "showTitle": false,
     "tableResultSettingsMap": {},
     "title": ""
    }
   },
   "outputs": [
    {
     "output_type": "stream",
     "name": "stdout",
     "output_type": "stream",
     "text": [
      "AUC ROC (Long Resolution): 0.4779\n"
     ]
    }
   ],
   "source": [
    "#Model Perforamnce Evaluation\n",
    "from pyspark.ml.evaluation import BinaryClassificationEvaluator\n",
    "\n",
    "evaluator = BinaryClassificationEvaluator(labelCol=\"Long_Resolution\", metricName=\"areaUnderROC\")\n",
    "auc = evaluator.evaluate(preds)\n",
    "print(\"AUC ROC (Long Resolution):\", round(auc, 4))\n"
   ]
  },
  {
   "cell_type": "code",
   "execution_count": 0,
   "metadata": {
    "application/vnd.databricks.v1+cell": {
     "cellMetadata": {
      "byteLimit": 2048000,
      "rowLimit": 10000
     },
     "inputWidgets": {},
     "nuid": "230308f0-e068-469c-aaab-97bda3dbaa89",
     "showTitle": false,
     "tableResultSettingsMap": {},
     "title": ""
    }
   },
   "outputs": [
    {
     "output_type": "stream",
     "name": "stdout",
     "output_type": "stream",
     "text": [
      "Year: 0.0820\nNumber of Affected Users: 0.1147\nUsers_Per_Year: 0.0515\nUser_Impact_Index: 0.0000\nCountry_idx: 0.2095\nAttack Type_idx: 0.1484\nTarget Industry_idx: 0.1475\nAttack Source_idx: 0.0764\nSecurity Vulnerability Type_idx: 0.0662\nDefense Mechanism Used_idx: 0.1038\n"
     ]
    }
   ],
   "source": [
    "#Feature Importance\n",
    "gbt_model = model.stages[-1]\n",
    "\n",
    "importances = gbt_model.featureImportances.toArray()\n",
    "\n",
    "for feature, imp in zip(input_features, importances):\n",
    "    print(f\"{feature}: {imp:.4f}\")"
   ]
  },
  {
   "cell_type": "code",
   "execution_count": 0,
   "metadata": {
    "application/vnd.databricks.v1+cell": {
     "cellMetadata": {
      "byteLimit": 2048000,
      "rowLimit": 10000
     },
     "inputWidgets": {},
     "nuid": "d67fedcc-fbad-49a3-a9ed-5f782cb1b87f",
     "showTitle": false,
     "tableResultSettingsMap": {},
     "title": ""
    }
   },
   "outputs": [
    {
     "output_type": "stream",
     "name": "stdout",
     "output_type": "stream",
     "text": [
      "Accuracy      : 0.4736\nPrecision     : 0.4736\nRecall        : 0.4736\nF1 Score      : 0.4736\n"
     ]
    }
   ],
   "source": [
    "#Metrics\n",
    "from pyspark.ml.evaluation import MulticlassClassificationEvaluator\n",
    "\n",
    "# Accuracy\n",
    "acc_evaluator = MulticlassClassificationEvaluator(labelCol=\"Long_Resolution\", predictionCol=\"prediction\", metricName=\"accuracy\")\n",
    "accuracy = acc_evaluator.evaluate(preds)\n",
    "\n",
    "# Precision\n",
    "precision_evaluator = MulticlassClassificationEvaluator(labelCol=\"Long_Resolution\", predictionCol=\"prediction\", metricName=\"weightedPrecision\")\n",
    "precision = precision_evaluator.evaluate(preds)\n",
    "\n",
    "# Recall\n",
    "recall_evaluator = MulticlassClassificationEvaluator(labelCol=\"Long_Resolution\", predictionCol=\"prediction\", metricName=\"weightedRecall\")\n",
    "recall = recall_evaluator.evaluate(preds)\n",
    "\n",
    "# F1 Score\n",
    "f1_evaluator = MulticlassClassificationEvaluator(labelCol=\"Long_Resolution\", predictionCol=\"prediction\", metricName=\"f1\")\n",
    "f1_score = f1_evaluator.evaluate(preds)\n",
    "\n",
    "print(f\"Accuracy      : {accuracy:.4f}\")\n",
    "print(f\"Precision     : {precision:.4f}\")\n",
    "print(f\"Recall        : {recall:.4f}\")\n",
    "print(f\"F1 Score      : {f1_score:.4f}\")\n"
   ]
  },
  {
   "cell_type": "code",
   "execution_count": 0,
   "metadata": {
    "application/vnd.databricks.v1+cell": {
     "cellMetadata": {
      "byteLimit": 2048000,
      "rowLimit": 10000
     },
     "inputWidgets": {},
     "nuid": "83c8074d-8fd7-4284-a8e3-7e1ebd5c9a56",
     "showTitle": false,
     "tableResultSettingsMap": {},
     "title": ""
    }
   },
   "outputs": [
    {
     "output_type": "stream",
     "name": "stdout",
     "output_type": "stream",
     "text": [
      "+----------+---------------+-----+\n|prediction|Long_Resolution|count|\n+----------+---------------+-----+\n|       1.0|              0|  143|\n|       0.0|              0|  132|\n|       0.0|              1|  146|\n|       1.0|              1|  128|\n+----------+---------------+-----+\n\n"
     ]
    }
   ],
   "source": [
    "#Confusion Matrix\n",
    "preds.select(\"prediction\", \"Long_Resolution\").groupBy(\"prediction\", \"Long_Resolution\").count().show()"
   ]
  }
 ],
 "metadata": {
  "application/vnd.databricks.v1+notebook": {
   "computePreferences": null,
   "dashboards": [],
   "environmentMetadata": {
    "base_environment": "",
    "environment_version": "1"
   },
   "inputWidgetPreferences": null,
   "language": "python",
   "notebookMetadata": {
    "mostRecentlyExecutedCommandWithImplicitDF": {
     "commandId": 1513730308968720,
     "dataframes": [
      "_sqldf"
     ]
    },
    "pythonIndentUnit": 4
   },
   "notebookName": "CyberThreat_Analysis",
   "widgets": {}
  }
 },
 "nbformat": 4,
 "nbformat_minor": 0
}